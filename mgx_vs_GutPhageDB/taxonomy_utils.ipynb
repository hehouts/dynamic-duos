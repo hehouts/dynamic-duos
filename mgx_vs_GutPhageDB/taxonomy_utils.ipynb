{
 "cells": [
  {
   "cell_type": "code",
   "execution_count": 2,
   "id": "436915fa-2c9b-4706-80e1-0a83813a44ae",
   "metadata": {},
   "outputs": [],
   "source": [
    "import pandas as pd\n",
    "import sourmash"
   ]
  },
  {
   "cell_type": "code",
   "execution_count": 4,
   "id": "250f696d-ddc6-47ac-a836-a6d1e484c6c0",
   "metadata": {},
   "outputs": [],
   "source": [
    "data = pd.read_csv(\"host_taxonomy.csv\")"
   ]
  },
  {
   "cell_type": "code",
   "execution_count": 7,
   "id": "66fefd8c-5dbc-41f5-b089-c0fde959ee1d",
   "metadata": {},
   "outputs": [
    {
     "data": {
      "text/html": [
       "<div>\n",
       "<style scoped>\n",
       "    .dataframe tbody tr th:only-of-type {\n",
       "        vertical-align: middle;\n",
       "    }\n",
       "\n",
       "    .dataframe tbody tr th {\n",
       "        vertical-align: top;\n",
       "    }\n",
       "\n",
       "    .dataframe thead th {\n",
       "        text-align: right;\n",
       "    }\n",
       "</style>\n",
       "<table border=\"1\" class=\"dataframe\">\n",
       "  <thead>\n",
       "    <tr style=\"text-align: right;\">\n",
       "      <th></th>\n",
       "      <th>GPD_id</th>\n",
       "      <th>intersect_bp</th>\n",
       "      <th>Predicted_phage_taxon</th>\n",
       "      <th>Host_range_isolates</th>\n",
       "      <th>Host_range_taxon</th>\n",
       "      <th>f_orig_query</th>\n",
       "      <th>f_match</th>\n",
       "      <th>f_unique_to_query</th>\n",
       "      <th>f_unique_weighted</th>\n",
       "      <th>average_abund</th>\n",
       "      <th>...</th>\n",
       "      <th>Metagenomic_runs_detected</th>\n",
       "      <th>Continents_detected</th>\n",
       "      <th>Countries_detected</th>\n",
       "      <th>checkV_MIUViG</th>\n",
       "      <th>checkV_completion</th>\n",
       "      <th>checkV_viral_region</th>\n",
       "      <th>checkV_host_region</th>\n",
       "      <th>checkV_prophage</th>\n",
       "      <th>checkV_termini</th>\n",
       "      <th>Novel</th>\n",
       "    </tr>\n",
       "  </thead>\n",
       "  <tbody>\n",
       "    <tr>\n",
       "      <th>0</th>\n",
       "      <td>uvig_409809</td>\n",
       "      <td>9400</td>\n",
       "      <td>Siphoviridae</td>\n",
       "      <td>GCA_003436725,GCA_003435635,GCA_003470775,GCF_...</td>\n",
       "      <td>Firmicutes;Clostridia;Lachnospirales;Lachnospi...</td>\n",
       "      <td>0.000070</td>\n",
       "      <td>0.350746</td>\n",
       "      <td>0.000070</td>\n",
       "      <td>0.000008</td>\n",
       "      <td>1.723404</td>\n",
       "      <td>...</td>\n",
       "      <td>SRR3993000</td>\n",
       "      <td>Asia</td>\n",
       "      <td>Mongolia</td>\n",
       "      <td>Genome-fragment</td>\n",
       "      <td>53.17</td>\n",
       "      <td>1-19979</td>\n",
       "      <td>19980-24464</td>\n",
       "      <td>Yes</td>\n",
       "      <td>No</td>\n",
       "      <td>No</td>\n",
       "    </tr>\n",
       "    <tr>\n",
       "      <th>1</th>\n",
       "      <td>uvig_367956</td>\n",
       "      <td>9100</td>\n",
       "      <td>Myoviridae</td>\n",
       "      <td>NaN</td>\n",
       "      <td>NaN</td>\n",
       "      <td>0.000068</td>\n",
       "      <td>0.107185</td>\n",
       "      <td>0.000068</td>\n",
       "      <td>0.000007</td>\n",
       "      <td>1.571429</td>\n",
       "      <td>...</td>\n",
       "      <td>SRR7658664,SRR1761667</td>\n",
       "      <td>Africa,South America</td>\n",
       "      <td>Madagascar,Peru</td>\n",
       "      <td>High-quality</td>\n",
       "      <td>100.00</td>\n",
       "      <td>1-36463</td>\n",
       "      <td>36464-88250</td>\n",
       "      <td>Yes</td>\n",
       "      <td>No</td>\n",
       "      <td>Yes</td>\n",
       "    </tr>\n",
       "    <tr>\n",
       "      <th>2</th>\n",
       "      <td>uvig_430148</td>\n",
       "      <td>7400</td>\n",
       "      <td>Myoviridae</td>\n",
       "      <td>GCA_003470035</td>\n",
       "      <td>Firmicutes;Clostridia;Lachnospirales;Lachnospi...</td>\n",
       "      <td>0.000055</td>\n",
       "      <td>0.237942</td>\n",
       "      <td>0.000055</td>\n",
       "      <td>0.000018</td>\n",
       "      <td>5.162162</td>\n",
       "      <td>...</td>\n",
       "      <td>SRR4783440,SRR3917696,SRR4783560,SRR4783612,SR...</td>\n",
       "      <td>North America,North America,North America,Nort...</td>\n",
       "      <td>United States,United States,United States,Unit...</td>\n",
       "      <td>Genome-fragment</td>\n",
       "      <td>32.77</td>\n",
       "      <td>1-15422</td>\n",
       "      <td>15423-33239</td>\n",
       "      <td>Yes</td>\n",
       "      <td>No</td>\n",
       "      <td>Yes</td>\n",
       "    </tr>\n",
       "    <tr>\n",
       "      <th>3</th>\n",
       "      <td>uvig_396786</td>\n",
       "      <td>7300</td>\n",
       "      <td>Microviridae</td>\n",
       "      <td>NaN</td>\n",
       "      <td>NaN</td>\n",
       "      <td>0.000055</td>\n",
       "      <td>0.480263</td>\n",
       "      <td>0.000055</td>\n",
       "      <td>0.000048</td>\n",
       "      <td>14.164384</td>\n",
       "      <td>...</td>\n",
       "      <td>ERR1018189,ERR589772,ERR209806,ERR1190631,SRR4...</td>\n",
       "      <td>Asia,Asia,Europe,Asia,NA,Asia,Asia,Europe,Nort...</td>\n",
       "      <td>China,China,Spain,China,NA,China,China,Russia,...</td>\n",
       "      <td>High-quality</td>\n",
       "      <td>100.00</td>\n",
       "      <td>1-13288</td>\n",
       "      <td>13289-14904</td>\n",
       "      <td>Yes</td>\n",
       "      <td>No</td>\n",
       "      <td>No</td>\n",
       "    </tr>\n",
       "    <tr>\n",
       "      <th>4</th>\n",
       "      <td>ivig_3504</td>\n",
       "      <td>7200</td>\n",
       "      <td>Siphoviridae</td>\n",
       "      <td>13414_6#20</td>\n",
       "      <td>Firmicutes;Clostridia;Lachnospirales;Lachnospi...</td>\n",
       "      <td>0.000054</td>\n",
       "      <td>0.630631</td>\n",
       "      <td>0.000052</td>\n",
       "      <td>0.000014</td>\n",
       "      <td>4.214286</td>\n",
       "      <td>...</td>\n",
       "      <td>ERR636370,ERR636369,ERR505105,ERR321486</td>\n",
       "      <td>Europe,Europe,Oceania,Europe</td>\n",
       "      <td>Sweden,Sweden,Australia,Denmark</td>\n",
       "      <td>Genome-fragment</td>\n",
       "      <td>20.21</td>\n",
       "      <td>NaN</td>\n",
       "      <td>1-12731</td>\n",
       "      <td>No</td>\n",
       "      <td>No</td>\n",
       "      <td>Yes</td>\n",
       "    </tr>\n",
       "  </tbody>\n",
       "</table>\n",
       "<p>5 rows × 46 columns</p>\n",
       "</div>"
      ],
      "text/plain": [
       "        GPD_id  intersect_bp Predicted_phage_taxon  \\\n",
       "0  uvig_409809          9400          Siphoviridae   \n",
       "1  uvig_367956          9100            Myoviridae   \n",
       "2  uvig_430148          7400            Myoviridae   \n",
       "3  uvig_396786          7300          Microviridae   \n",
       "4    ivig_3504          7200          Siphoviridae   \n",
       "\n",
       "                                 Host_range_isolates  \\\n",
       "0  GCA_003436725,GCA_003435635,GCA_003470775,GCF_...   \n",
       "1                                                NaN   \n",
       "2                                      GCA_003470035   \n",
       "3                                                NaN   \n",
       "4                                         13414_6#20   \n",
       "\n",
       "                                    Host_range_taxon  f_orig_query   f_match  \\\n",
       "0  Firmicutes;Clostridia;Lachnospirales;Lachnospi...      0.000070  0.350746   \n",
       "1                                                NaN      0.000068  0.107185   \n",
       "2  Firmicutes;Clostridia;Lachnospirales;Lachnospi...      0.000055  0.237942   \n",
       "3                                                NaN      0.000055  0.480263   \n",
       "4  Firmicutes;Clostridia;Lachnospirales;Lachnospi...      0.000054  0.630631   \n",
       "\n",
       "   f_unique_to_query  f_unique_weighted  average_abund  ...  \\\n",
       "0           0.000070           0.000008       1.723404  ...   \n",
       "1           0.000068           0.000007       1.571429  ...   \n",
       "2           0.000055           0.000018       5.162162  ...   \n",
       "3           0.000055           0.000048      14.164384  ...   \n",
       "4           0.000052           0.000014       4.214286  ...   \n",
       "\n",
       "                           Metagenomic_runs_detected  \\\n",
       "0                                         SRR3993000   \n",
       "1                              SRR7658664,SRR1761667   \n",
       "2  SRR4783440,SRR3917696,SRR4783560,SRR4783612,SR...   \n",
       "3  ERR1018189,ERR589772,ERR209806,ERR1190631,SRR4...   \n",
       "4            ERR636370,ERR636369,ERR505105,ERR321486   \n",
       "\n",
       "                                 Continents_detected  \\\n",
       "0                                               Asia   \n",
       "1                               Africa,South America   \n",
       "2  North America,North America,North America,Nort...   \n",
       "3  Asia,Asia,Europe,Asia,NA,Asia,Asia,Europe,Nort...   \n",
       "4                       Europe,Europe,Oceania,Europe   \n",
       "\n",
       "                                  Countries_detected    checkV_MIUViG  \\\n",
       "0                                           Mongolia  Genome-fragment   \n",
       "1                                    Madagascar,Peru     High-quality   \n",
       "2  United States,United States,United States,Unit...  Genome-fragment   \n",
       "3  China,China,Spain,China,NA,China,China,Russia,...     High-quality   \n",
       "4                    Sweden,Sweden,Australia,Denmark  Genome-fragment   \n",
       "\n",
       "  checkV_completion  checkV_viral_region  checkV_host_region  checkV_prophage  \\\n",
       "0             53.17              1-19979         19980-24464              Yes   \n",
       "1            100.00              1-36463         36464-88250              Yes   \n",
       "2             32.77              1-15422         15423-33239              Yes   \n",
       "3            100.00              1-13288         13289-14904              Yes   \n",
       "4             20.21                  NaN             1-12731               No   \n",
       "\n",
       "   checkV_termini Novel  \n",
       "0              No    No  \n",
       "1              No   Yes  \n",
       "2              No   Yes  \n",
       "3              No    No  \n",
       "4              No   Yes  \n",
       "\n",
       "[5 rows x 46 columns]"
      ]
     },
     "execution_count": 7,
     "metadata": {},
     "output_type": "execute_result"
    }
   ],
   "source": [
    "data.head()"
   ]
  },
  {
   "cell_type": "code",
   "execution_count": 8,
   "id": "fdcc6764-bbdc-4557-ac2e-aa6c3dcf07cd",
   "metadata": {},
   "outputs": [
    {
     "data": {
      "text/plain": [
       "0      Firmicutes;Clostridia;Lachnospirales;Lachnospi...\n",
       "1                                                    NaN\n",
       "2      Firmicutes;Clostridia;Lachnospirales;Lachnospi...\n",
       "3                                                    NaN\n",
       "4      Firmicutes;Clostridia;Lachnospirales;Lachnospi...\n",
       "                             ...                        \n",
       "890                                                  NaN\n",
       "891                                                  NaN\n",
       "892                                                  NaN\n",
       "893                                                  NaN\n",
       "894                                                  NaN\n",
       "Name: Host_range_taxon, Length: 895, dtype: object"
      ]
     },
     "execution_count": 8,
     "metadata": {},
     "output_type": "execute_result"
    }
   ],
   "source": [
    "data[\"Host_range_taxon\"]"
   ]
  },
  {
   "cell_type": "code",
   "execution_count": 18,
   "id": "22189d4c-1c72-40e9-9ae1-d92e6271e9fa",
   "metadata": {},
   "outputs": [
    {
     "data": {
      "text/plain": [
       "['Bacteria;Firmicutes;Clostridia;Lachnospirales;Lachnospiraceae;Ruminococcus_B;Ruminococcus_B lactaris',\n",
       " 'Bacteria;Firmicutes;Clostridia;Lachnospirales;Lachnospiraceae;Ruminococcus_B;Ruminococcus_B faecis',\n",
       " 'Bacteria;Firmicutes;Clostridia;Lachnospirales;Lachnospiraceae;Ruminococcus_B;Ruminococcus_B lactaris',\n",
       " 'Bacteria;Firmicutes;Clostridia;Lachnospirales;Lachnospiraceae;Ruminococcus_B;Ruminococcus_B lactaris']"
      ]
     },
     "execution_count": 18,
     "metadata": {},
     "output_type": "execute_result"
    }
   ],
   "source": [
    "test_lineages = data[\"Host_range_taxon\"][0].split(\",\")\n",
    "test_lineages = ['Bacteria;' + x for x in test_lineages]\n",
    "test_lineages"
   ]
  },
  {
   "cell_type": "code",
   "execution_count": 16,
   "id": "91f08a46-ad19-4553-a517-31b06a9713aa",
   "metadata": {},
   "outputs": [],
   "source": [
    "from sourmash.lca import lca_utils"
   ]
  },
  {
   "cell_type": "code",
   "execution_count": 23,
   "id": "c7cad919-cc97-484b-a983-118d7120e917",
   "metadata": {},
   "outputs": [
    {
     "data": {
      "text/plain": [
       "(LineagePair(rank='superkingdom', name='Bacteria'),\n",
       " LineagePair(rank='phylum', name='Firmicutes'),\n",
       " LineagePair(rank='class', name='Clostridia'),\n",
       " LineagePair(rank='order', name='Lachnospirales'),\n",
       " LineagePair(rank='family', name='Lachnospiraceae'),\n",
       " LineagePair(rank='genus', name='Ruminococcus_B'),\n",
       " LineagePair(rank='species', name='Ruminococcus_B lactaris'))"
      ]
     },
     "execution_count": 23,
     "metadata": {},
     "output_type": "execute_result"
    }
   ],
   "source": [
    "lin1 = lca_utils.make_lineage(test_lineages[0])\n",
    "lin1"
   ]
  },
  {
   "cell_type": "code",
   "execution_count": 26,
   "id": "98c223fe-1ccb-491c-8898-bd3f13c61b15",
   "metadata": {},
   "outputs": [
    {
     "data": {
      "text/plain": [
       "(LineagePair(rank='superkingdom', name='Bacteria'),\n",
       " LineagePair(rank='phylum', name='Firmicutes'),\n",
       " LineagePair(rank='class', name='Clostridia'),\n",
       " LineagePair(rank='order', name='Lachnospirales'),\n",
       " LineagePair(rank='family', name='Lachnospiraceae'),\n",
       " LineagePair(rank='genus', name='Ruminococcus_B'),\n",
       " LineagePair(rank='species', name='Ruminococcus_B faecis'))"
      ]
     },
     "execution_count": 26,
     "metadata": {},
     "output_type": "execute_result"
    }
   ],
   "source": [
    "lin2 = lca_utils.make_lineage(test_lineages[1])\n",
    "lin2"
   ]
  },
  {
   "cell_type": "code",
   "execution_count": 28,
   "id": "f24ba5c9-ff8c-4aea-967e-dfa148e47b04",
   "metadata": {},
   "outputs": [
    {
     "data": {
      "text/plain": [
       "{LineagePair(rank='superkingdom', name='Bacteria'): {LineagePair(rank='phylum', name='Firmicutes'): {LineagePair(rank='class', name='Clostridia'): {LineagePair(rank='order', name='Lachnospirales'): {LineagePair(rank='family', name='Lachnospiraceae'): {LineagePair(rank='genus', name='Ruminococcus_B'): {LineagePair(rank='species', name='Ruminococcus_B lactaris'): {},\n",
       "       LineagePair(rank='species', name='Ruminococcus_B faecis'): {}}}}}}}}"
      ]
     },
     "execution_count": 28,
     "metadata": {},
     "output_type": "execute_result"
    }
   ],
   "source": [
    "tree = sourmash.lca.build_tree([lin1, lin2])\n",
    "tree"
   ]
  },
  {
   "cell_type": "code",
   "execution_count": 33,
   "id": "b6d7e702-6165-4bb8-afc0-0427673d449f",
   "metadata": {},
   "outputs": [
    {
     "data": {
      "text/plain": [
       "((LineagePair(rank='superkingdom', name='Bacteria'),\n",
       "  LineagePair(rank='phylum', name='Firmicutes'),\n",
       "  LineagePair(rank='class', name='Clostridia'),\n",
       "  LineagePair(rank='order', name='Lachnospirales'),\n",
       "  LineagePair(rank='family', name='Lachnospiraceae'),\n",
       "  LineagePair(rank='genus', name='Ruminococcus_B')),\n",
       " 2)"
      ]
     },
     "execution_count": 33,
     "metadata": {},
     "output_type": "execute_result"
    }
   ],
   "source": [
    "lca = sourmash.lca.find_lca(tree)\n",
    "lca"
   ]
  },
  {
   "cell_type": "code",
   "execution_count": 35,
   "id": "b8001de1-170a-4e8a-aec6-91507b593d08",
   "metadata": {},
   "outputs": [
    {
     "data": {
      "text/plain": [
       "'Bacteria;Firmicutes;Clostridia;Lachnospirales;Lachnospiraceae;Ruminococcus_B;Ruminococcus_B lactaris'"
      ]
     },
     "execution_count": 35,
     "metadata": {},
     "output_type": "execute_result"
    }
   ],
   "source": [
    "lca_utils.display_lineage(lin1)"
   ]
  },
  {
   "cell_type": "code",
   "execution_count": 36,
   "id": "1786b9cc-0fb9-4f97-9d93-97753822e600",
   "metadata": {},
   "outputs": [
    {
     "data": {
      "text/plain": [
       "'Bacteria;Firmicutes;Clostridia;Lachnospirales;Lachnospiraceae;Ruminococcus_B'"
      ]
     },
     "execution_count": 36,
     "metadata": {},
     "output_type": "execute_result"
    }
   ],
   "source": [
    "lca_utils.display_lineage(lca[0])"
   ]
  },
  {
   "cell_type": "code",
   "execution_count": 37,
   "id": "957902ec-19e1-456f-9191-4eeef4806d0c",
   "metadata": {},
   "outputs": [
    {
     "data": {
      "text/plain": [
       "(LineagePair(rank='superkingdom', name='Bacteria'),\n",
       " LineagePair(rank='phylum', name='Firmicutes'),\n",
       " LineagePair(rank='class', name='Clostridia'),\n",
       " LineagePair(rank='order', name='Lachnospirales'),\n",
       " LineagePair(rank='family', name='Lachnospiraceae'),\n",
       " LineagePair(rank='genus', name='Ruminococcus_B'),\n",
       " LineagePair(rank='species', name='Ruminococcus_B lactaris'))"
      ]
     },
     "execution_count": 37,
     "metadata": {},
     "output_type": "execute_result"
    }
   ],
   "source": [
    "lin1"
   ]
  },
  {
   "cell_type": "code",
   "execution_count": 39,
   "id": "34009a59-2ef3-44cf-833f-b48a93af0394",
   "metadata": {},
   "outputs": [
    {
     "data": {
      "text/plain": [
       "LineagePair(rank='superkingdom', name='Bacteria')"
      ]
     },
     "execution_count": 39,
     "metadata": {},
     "output_type": "execute_result"
    }
   ],
   "source": [
    "lin1[0]"
   ]
  },
  {
   "cell_type": "code",
   "execution_count": 41,
   "id": "d7425a2f-adb0-48f6-83d8-139bc274beb8",
   "metadata": {},
   "outputs": [
    {
     "data": {
      "text/plain": [
       "LineagePair(rank='species', name='Ruminococcus_B lactaris')"
      ]
     },
     "execution_count": 41,
     "metadata": {},
     "output_type": "execute_result"
    }
   ],
   "source": [
    "lin1[-1]"
   ]
  },
  {
   "cell_type": "code",
   "execution_count": 42,
   "id": "fa679ebf-7ec6-4ef1-a74a-942d815f0ea0",
   "metadata": {},
   "outputs": [
    {
     "data": {
      "text/plain": [
       "'species'"
      ]
     },
     "execution_count": 42,
     "metadata": {},
     "output_type": "execute_result"
    }
   ],
   "source": [
    "lin1[-1].rank"
   ]
  },
  {
   "cell_type": "code",
   "execution_count": 43,
   "id": "0bacffcf-c204-4cb3-b8e8-367619b9108a",
   "metadata": {},
   "outputs": [
    {
     "data": {
      "text/plain": [
       "'Ruminococcus_B lactaris'"
      ]
     },
     "execution_count": 43,
     "metadata": {},
     "output_type": "execute_result"
    }
   ],
   "source": [
    "lin1[-1].name"
   ]
  },
  {
   "cell_type": "code",
   "execution_count": null,
   "id": "aeda06dc-aaf7-4bc1-8683-df69acf7e958",
   "metadata": {},
   "outputs": [],
   "source": []
  },
  {
   "cell_type": "code",
   "execution_count": null,
   "id": "2f3c0e55-c75c-4711-ba4c-e2423926f018",
   "metadata": {},
   "outputs": [],
   "source": []
  },
  {
   "cell_type": "code",
   "execution_count": null,
   "id": "b978b9e4-53cc-4aad-8f40-81191d72f4d7",
   "metadata": {},
   "outputs": [],
   "source": []
  },
  {
   "cell_type": "code",
   "execution_count": null,
   "id": "9e4511f3-ef12-4a48-8722-79b71cc10534",
   "metadata": {},
   "outputs": [],
   "source": []
  },
  {
   "cell_type": "code",
   "execution_count": null,
   "id": "6a090c6f-7050-4437-98e2-2f53ffaaf345",
   "metadata": {},
   "outputs": [],
   "source": []
  }
 ],
 "metadata": {
  "kernelspec": {
   "display_name": "Python 3 (ipykernel)",
   "language": "python",
   "name": "python3"
  },
  "language_info": {
   "codemirror_mode": {
    "name": "ipython",
    "version": 3
   },
   "file_extension": ".py",
   "mimetype": "text/x-python",
   "name": "python",
   "nbconvert_exporter": "python",
   "pygments_lexer": "ipython3",
   "version": "3.9.13"
  }
 },
 "nbformat": 4,
 "nbformat_minor": 5
}
